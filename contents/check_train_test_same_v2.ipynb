{
 "cells": [
  {
   "cell_type": "code",
   "execution_count": 99,
   "metadata": {},
   "outputs": [],
   "source": [
    "# removed duplicates between train dataset and test dataset"
   ]
  },
  {
   "cell_type": "code",
   "execution_count": 99,
   "metadata": {},
   "outputs": [],
   "source": [
    "subject = 'general'# removed 2\n",
    "subject = 'stock' # removed 2\n",
    "subject = 'finance' #removed 148\n",
    "subject = 'global' #removed 0\n",
    "subject = 'industry' #removed 214?\n",
    "subjects = ['general', 'stock', 'finance', 'global', 'industry']\n",
    "\n",
    "train_dir = 'contents/' + subject\n",
    "test_dir = 'testset/contents/' + subject + '_w_label'\n",
    "\n",
    "#f1_s = '../' + subject + '_address.txt'\n",
    "#f2_s = subject + '_address.txt'"
   ]
  },
  {
   "cell_type": "code",
   "execution_count": 85,
   "metadata": {},
   "outputs": [],
   "source": [
    "import os\n",
    "test_titles = []\n",
    "for subject in subjects:\n",
    "    test_dir = 'testset/contents/' + subject + '_w_label'\n",
    "    for file_s in os.listdir(test_dir):\n",
    "        if not os.path.isfile(test_dir + '/' + file_s):\n",
    "            continue\n",
    "\n",
    "        with open(test_dir+'/'+file_s) as f1:\n",
    "            title = f1.readline().strip()\n",
    "            test_titles.append(title)"
   ]
  },
  {
   "cell_type": "code",
   "execution_count": 86,
   "metadata": {},
   "outputs": [
    {
     "data": {
      "text/plain": [
       "635"
      ]
     },
     "execution_count": 86,
     "metadata": {},
     "output_type": "execute_result"
    }
   ],
   "source": [
    "len(test_titles)"
   ]
  },
  {
   "cell_type": "code",
   "execution_count": 100,
   "metadata": {},
   "outputs": [],
   "source": [
    "duplicates = []\n",
    "import os\n",
    "for file_s in os.listdir(train_dir):\n",
    "    if not os.path.isfile(train_dir + '/' + file_s):\n",
    "        continue\n",
    "    \n",
    "    with open(train_dir+'/'+file_s) as f1:\n",
    "        title = f1.readline().strip()\n",
    "        if title in test_titles:\n",
    "            duplicates.append((train_dir+'/'+file_s, title))\n",
    "            #os.remove(train_dir+'/'+file_s)"
   ]
  },
  {
   "cell_type": "code",
   "execution_count": 101,
   "metadata": {},
   "outputs": [
    {
     "name": "stdout",
     "output_type": "stream",
     "text": [
      "\n",
      "0\n"
     ]
    }
   ],
   "source": [
    "print()\n",
    "print(len(duplicates))"
   ]
  },
  {
   "cell_type": "code",
   "execution_count": 89,
   "metadata": {},
   "outputs": [
    {
     "data": {
      "text/plain": [
       "[]"
      ]
     },
     "execution_count": 89,
     "metadata": {},
     "output_type": "execute_result"
    }
   ],
   "source": [
    "duplicates"
   ]
  },
  {
   "cell_type": "code",
   "execution_count": 20,
   "metadata": {
    "collapsed": true,
    "jupyter": {
     "outputs_hidden": true
    }
   },
   "outputs": [
    {
     "data": {
      "text/plain": [
       "['광주·전남 주택 매매 급증…“더 오르기 전 구입”',\n",
       " '[올댓차이나] 中 대법원, 민간 대출금리 상한 15.4%로 대폭 인하',\n",
       " '[CSI] \"전자레인지 속에 날파리\"…휴가철 편의점 위생 괜찮나',\n",
       " '국내 선박 수주 1위 탈환…하반기 반등 기대',\n",
       " '매매가 상승 폭 둔화...전세는 60주 연속 오름세',\n",
       " '청주시, 영구임대아파트 예비입주자 모집',\n",
       " \"KISA, '차세대 정보보호 기술 전수의 장' 마련\",\n",
       " '\\'배달의민족\\' 인수한 딜리버리히어로 독일 DAX30 진입…\"코로나 특수\"',\n",
       " \"최고당돈가스, 가성비 높은 돈가스 메뉴 '과천점' 신규오픈\",\n",
       " '대전·충남·세종서 23명 코로나19 추가 확진…이틀 동안 40명(종합3보)',\n",
       " '부동산 정책 뒤 대구 아파트 양극화 심화',\n",
       " '코로나로 바뀐 쇼핑문화…미 대형유통업체도 온라인매출 급성장',\n",
       " '규제 피한 다세대·연립…12년 만에 최대 거래',\n",
       " '다세대·연립 매매 급증...\"아파트 전세 대신 빌라 구매\"',\n",
       " 'WTO \"내년 세계무역 전망, V자형보다 L자형이 현실적\"',\n",
       " '인건비 대폭 줄여 버틴 항공·여행업·면세점…흔들리는 가계가 보인다 [박동흠의 생활 속 회계이야기]',\n",
       " '5G 가입자 절반이 \"체감 속도 불만·서비스 협소 불편\"',\n",
       " '서울 전체로 퍼진 전세난…노도강·금관구도 전셋값 新고가',\n",
       " \"'허위매물' 단속 하루 만에...서울 온라인 매물 15% 사라져\",\n",
       " '‘340대 1’…서울 역대 최고 청약률 어디?',\n",
       " \"BBQ, '네고왕' 파격 할인 이벤트 … 9월 6일까지\",\n",
       " '브렉시트 미래협상 교착 계속...EU \"시간 낭비하고 있다\"',\n",
       " '임대차 3법 시행으로 부동산 시장 혼란',\n",
       " '국토부 차관 \"강남·마용성 하향 안정 필요...다주택자 순수익률 연10~14%\"',\n",
       " '코로나 재확산 우려 코스피 2% 넘게 하락...코스닥지수도 급락',\n",
       " '하반기 대졸신입 채용계획, ‘수시’ 비율이 공채 처음 앞질러',\n",
       " '에어부산 2분기 영업손실 514억 원',\n",
       " '[올댓차이나] 동영상앱 틱톡 운영 바이트댄스 24일 美거래금지 제소',\n",
       " '코로나19 2차 대유행 우려…지역 경제 또 ‘빨간불’',\n",
       " '2분기 광공업생산·수출입·취업자↓…소매 판매↑',\n",
       " '한국은행, 올해 성장률 전망치 -1% 안팎으로 내릴 듯',\n",
       " '매드포갈릭, 레캉스족 겨냥 8월 ‘레캉스 패키지’ 선봬',\n",
       " '대책 쏟아내도 안 잡히는 서울 집값',\n",
       " '도미노피자 온라인 매니아를 위한 특별한 라이브 콘서트! 피자 먹고 콘서트 즐기자!',\n",
       " '전월세전환율 2.5% 넘는 계약에 정부 \"과태료 등 검토 안 해\"',\n",
       " '강남권 토지거래허가 시행 두 달...거래 급감· 가격 상승',\n",
       " '아침엔본죽, 본죽과 불닭소스의 화끈한 만남, 죽도 색다르게 즐기자!',\n",
       " '공공재개발 속도 붙나?…재건축과 ‘온도차’',\n",
       " '편의점에서 캠핑 먹거리 준비 끝! CU, 캠핑 간편식 시리즈 출시',\n",
       " '은행권 신용대출 금리, 주택담보대출보다 낮아졌다',\n",
       " '프링글스“당신의 미각에 총 1천만원의 상금을 건다!”',\n",
       " '미국, 주간 실업수당신청 110만…1주만에 다시 백만명 대',\n",
       " '한은, 2020년 경제성장률 -1% 안팎으로 낮출 듯',\n",
       " \"이통사에 광고비 떠넘긴 애플, '1,000억 상생안' 제시\",\n",
       " \"세 인상 경고에 법인 부동산 '화들짝'...매도 올해 최다\",\n",
       " '뉴욕증시, 경제지표 부진에 혼조세 출발…다우 0.4%↓',\n",
       " '\"이대로면 하루 확진 1000명 넘는다\" 前질본 본부장의 경고',\n",
       " '아파트 고공행진에 양극화 심해져…“대책 마련해야”',\n",
       " '허위 매물 단속 첫날…서울서만 15,000건 싹 빠졌다',\n",
       " '강원도, 3회 추경 5,800여억 원 증액',\n",
       " '정총리 \"2차 재난지원금 전액 국채에 의존해야…주저된다\"',\n",
       " '\"국내증시, 추가 상승 여력 충분\"...미중 무역회담 주목',\n",
       " '美뉴욕증시서 S&P지수 장중 최고치 기록',\n",
       " '치솟는 전세값…매물 얼마나 줄었나?',\n",
       " \"'청약신기록' 나왔다…DMC SK뷰 아이파크포레, 340대 1 마감\",\n",
       " '김대지 국세청장 후보자 \"매매 동향 철저히 점검\" 부동산 정조준',\n",
       " '7월 신규실업자 60만 명 넘어...10년 만에 최대 수준',\n",
       " '윤희숙 의원 \"부부공동명의 세액공제 배제, 지금이 조선시대냐\"',\n",
       " \"강북도 128대1…'분양 절벽' 앞두고 30대·신혼 '청약 막차' 열풍\",\n",
       " '340대 1... 서울 역대 최고 청약률 깨졌다',\n",
       " '가정간편식 상표 출원 크게 늘어',\n",
       " '오감이 만족하는 안주 한접시 ‘오감포차 새우감바스, 칠리치즈소시지’ 새로나왔어요',\n",
       " '대형마트 규제 연장이냐 규제 일부 해제냐?',\n",
       " '신용대출 급증 추세 지속...주담대 금리보다도 낮아져',\n",
       " '집중호우로 한우 843·돼지 1,800여 마리 폐사',\n",
       " '성경식품, 국내산 홍삼가루가 함유된 홍삼김 출시',\n",
       " '광주·전남 가계대출 51조 원 돌파…역대 최대',\n",
       " '홍남기 \"부동산감독기구 신중해야…정부내 부정적 의견도 상당\"',\n",
       " '의성군, 신공항 추진 상황 설명회 열어',\n",
       " '전기안전공사, 한국해상풍력과 ‘한국형 그린뉴딜’ 선도 맞손',\n",
       " '“고용상황 개선”?…고용동향 계절조정지수 논란 살펴보니',\n",
       " '채이배 \"네이버 \\'시장지배력 남용\\', 제재 논의...플랫폼 소비자 편의 고려해야\"',\n",
       " \"'수출 1호' 바라카 원전 첫 송전...두 번째 원전 수주에 총력\",\n",
       " '은행 신용대출 급증 속 연체율도 상승세… 당국 “어쩌나”',\n",
       " '강원도 내 아파트 매매 가격 소폭 상승',\n",
       " '‘코로나19·저유가’…대형 조선소 실적 악화',\n",
       " '근로·사업·재산소득 줄줄이↓...재난지원금으로 버텼다',\n",
       " '충북 주간 아파트값 0.01%↑…전셋값 0.19%↑',\n",
       " '미국 대형유통체인 타겟, 2분기 판매고 25% ↑ 순익 80%↑',\n",
       " '글로벌 전기차 배터리 3파전… 기술 투자가 열쇠',\n",
       " '대구서 화상 수출 상담회 이틀 동안 열려',\n",
       " '경남 수출, 코로나19 이후 감소세 완화',\n",
       " '내수 개선 흐름 지속...홍남기 \"수출 개선되면 3분기 플러스 성장\"',\n",
       " '“6·17 대책 이후 대전·세종 갭투자 감소”',\n",
       " '코로나19 재유행…여행·숙박업 재기노력에 찬물',\n",
       " 'IMF 때 보다 더한 취업난…“빚만 늘었다”',\n",
       " '제주지역 수출액 5년 2개월 만에 최저 실적',\n",
       " '과태료 부과 이틀 만에…부동산 미끼 매물 24% 줄었다',\n",
       " '\"나랏빚 늘어도 괜찮아\"…현대통화이론, 코로나 시대에 각광',\n",
       " '카페 드롭탑, 부드러운 콜드브루와 디저트로 시원한 홈카페 즐겨요',\n",
       " '씨마른 전세물량…저소득층 월세 지출은 1년새 13.8%↑',\n",
       " '미국 다음 표적될라…호실적에도 바짝 언 알리바바',\n",
       " '6·17 대책 두 달...수도권 아파트값 1.25% 상승',\n",
       " '코로나 확산에 ‘5번 외식하면 1만원 환급’ 이틀만에 중단',\n",
       " '엃히고 설킨 인천공항 직고용…공사 “직고용 그대로 진행”']"
      ]
     },
     "execution_count": 20,
     "metadata": {},
     "output_type": "execute_result"
    }
   ],
   "source": [
    "test_titles"
   ]
  },
  {
   "cell_type": "code",
   "execution_count": 17,
   "metadata": {},
   "outputs": [],
   "source": [
    "test_titles"
   ]
  },
  {
   "cell_type": "code",
   "execution_count": null,
   "metadata": {},
   "outputs": [],
   "source": []
  }
 ],
 "metadata": {
  "kernelspec": {
   "display_name": "Python 3",
   "language": "python",
   "name": "python3"
  },
  "language_info": {
   "codemirror_mode": {
    "name": "ipython",
    "version": 3
   },
   "file_extension": ".py",
   "mimetype": "text/x-python",
   "name": "python",
   "nbconvert_exporter": "python",
   "pygments_lexer": "ipython3",
   "version": "3.6.9"
  }
 },
 "nbformat": 4,
 "nbformat_minor": 4
}
